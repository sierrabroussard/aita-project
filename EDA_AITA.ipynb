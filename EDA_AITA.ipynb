{
 "cells": [
  {
   "cell_type": "code",
   "execution_count": 2,
   "metadata": {},
   "outputs": [],
   "source": [
    "import numpy as np\n",
    "import scipy as sp\n",
    "import matplotlib as plt\n",
    "import seaborn as sns\n",
    "import pandas as pd"
   ]
  },
  {
   "cell_type": "code",
   "execution_count": 4,
   "metadata": {},
   "outputs": [],
   "source": [
    "full_data = pd.read_csv('aita_clean.csv')"
   ]
  },
  {
   "cell_type": "code",
   "execution_count": 5,
   "metadata": {},
   "outputs": [
    {
     "data": {
      "text/html": [
       "<div>\n",
       "<style scoped>\n",
       "    .dataframe tbody tr th:only-of-type {\n",
       "        vertical-align: middle;\n",
       "    }\n",
       "\n",
       "    .dataframe tbody tr th {\n",
       "        vertical-align: top;\n",
       "    }\n",
       "\n",
       "    .dataframe thead th {\n",
       "        text-align: right;\n",
       "    }\n",
       "</style>\n",
       "<table border=\"1\" class=\"dataframe\">\n",
       "  <thead>\n",
       "    <tr style=\"text-align: right;\">\n",
       "      <th></th>\n",
       "      <th>id</th>\n",
       "      <th>timestamp</th>\n",
       "      <th>title</th>\n",
       "      <th>body</th>\n",
       "      <th>edited</th>\n",
       "      <th>verdict</th>\n",
       "      <th>score</th>\n",
       "      <th>num_comments</th>\n",
       "      <th>is_asshole</th>\n",
       "    </tr>\n",
       "  </thead>\n",
       "  <tbody>\n",
       "    <tr>\n",
       "      <td>0</td>\n",
       "      <td>arfcfl</td>\n",
       "      <td>1550365421</td>\n",
       "      <td>AITA - Getting Hugged At The Bar</td>\n",
       "      <td>\\n\\nThis all happened less than an hour ago.\\...</td>\n",
       "      <td>False</td>\n",
       "      <td>not the asshole</td>\n",
       "      <td>3</td>\n",
       "      <td>14</td>\n",
       "      <td>0</td>\n",
       "    </tr>\n",
       "    <tr>\n",
       "      <td>1</td>\n",
       "      <td>cg8mxn</td>\n",
       "      <td>1563769917</td>\n",
       "      <td>AITA if i don't want to pay my friend 5 dollar...</td>\n",
       "      <td>So, my friend bought herself, our other friend...</td>\n",
       "      <td>False</td>\n",
       "      <td>asshole</td>\n",
       "      <td>11</td>\n",
       "      <td>42</td>\n",
       "      <td>1</td>\n",
       "    </tr>\n",
       "    <tr>\n",
       "      <td>2</td>\n",
       "      <td>bajsje</td>\n",
       "      <td>1554663842</td>\n",
       "      <td>AITA For going to 'expensive' restaurants in s...</td>\n",
       "      <td>It's in Seattle if that matters. It seems peop...</td>\n",
       "      <td>1554686830.0</td>\n",
       "      <td>asshole</td>\n",
       "      <td>657</td>\n",
       "      <td>397</td>\n",
       "      <td>1</td>\n",
       "    </tr>\n",
       "    <tr>\n",
       "      <td>3</td>\n",
       "      <td>cq6voc</td>\n",
       "      <td>1565771883</td>\n",
       "      <td>AITA for wanting \"free gas\", due to an attenda...</td>\n",
       "      <td>I was with my dad and driving the family car w...</td>\n",
       "      <td>1565773989.0</td>\n",
       "      <td>not the asshole</td>\n",
       "      <td>49</td>\n",
       "      <td>40</td>\n",
       "      <td>0</td>\n",
       "    </tr>\n",
       "    <tr>\n",
       "      <td>4</td>\n",
       "      <td>bz4m2k</td>\n",
       "      <td>1560207411</td>\n",
       "      <td>AITA I asked my dad to replace the fuel that h...</td>\n",
       "      <td>Am I the asshole for asking my dad to replace ...</td>\n",
       "      <td>False</td>\n",
       "      <td>not the asshole</td>\n",
       "      <td>4</td>\n",
       "      <td>10</td>\n",
       "      <td>0</td>\n",
       "    </tr>\n",
       "  </tbody>\n",
       "</table>\n",
       "</div>"
      ],
      "text/plain": [
       "       id   timestamp                                              title  \\\n",
       "0  arfcfl  1550365421                   AITA - Getting Hugged At The Bar   \n",
       "1  cg8mxn  1563769917  AITA if i don't want to pay my friend 5 dollar...   \n",
       "2  bajsje  1554663842  AITA For going to 'expensive' restaurants in s...   \n",
       "3  cq6voc  1565771883  AITA for wanting \"free gas\", due to an attenda...   \n",
       "4  bz4m2k  1560207411  AITA I asked my dad to replace the fuel that h...   \n",
       "\n",
       "                                                body        edited  \\\n",
       "0   \\n\\nThis all happened less than an hour ago.\\...         False   \n",
       "1  So, my friend bought herself, our other friend...         False   \n",
       "2  It's in Seattle if that matters. It seems peop...  1554686830.0   \n",
       "3  I was with my dad and driving the family car w...  1565773989.0   \n",
       "4  Am I the asshole for asking my dad to replace ...         False   \n",
       "\n",
       "           verdict  score  num_comments  is_asshole  \n",
       "0  not the asshole      3            14           0  \n",
       "1          asshole     11            42           1  \n",
       "2          asshole    657           397           1  \n",
       "3  not the asshole     49            40           0  \n",
       "4  not the asshole      4            10           0  "
      ]
     },
     "execution_count": 5,
     "metadata": {},
     "output_type": "execute_result"
    }
   ],
   "source": [
    "full_data.head()"
   ]
  },
  {
   "cell_type": "code",
   "execution_count": 7,
   "metadata": {},
   "outputs": [
    {
     "name": "stdout",
     "output_type": "stream",
     "text": [
      "<class 'pandas.core.frame.DataFrame'>\n",
      "RangeIndex: 10000 entries, 0 to 9999\n",
      "Data columns (total 9 columns):\n",
      "id              10000 non-null object\n",
      "timestamp       10000 non-null int64\n",
      "title           10000 non-null object\n",
      "body            9993 non-null object\n",
      "edited          10000 non-null object\n",
      "verdict         10000 non-null object\n",
      "score           10000 non-null int64\n",
      "num_comments    10000 non-null int64\n",
      "is_asshole      10000 non-null int64\n",
      "dtypes: int64(4), object(5)\n",
      "memory usage: 703.2+ KB\n"
     ]
    }
   ],
   "source": [
    "full_data.info()"
   ]
  },
  {
   "cell_type": "code",
   "execution_count": 10,
   "metadata": {},
   "outputs": [],
   "source": [
    "empty_body = full_data[full_data['body'].isnull()]"
   ]
  },
  {
   "cell_type": "code",
   "execution_count": 11,
   "metadata": {},
   "outputs": [
    {
     "data": {
      "text/html": [
       "<div>\n",
       "<style scoped>\n",
       "    .dataframe tbody tr th:only-of-type {\n",
       "        vertical-align: middle;\n",
       "    }\n",
       "\n",
       "    .dataframe tbody tr th {\n",
       "        vertical-align: top;\n",
       "    }\n",
       "\n",
       "    .dataframe thead th {\n",
       "        text-align: right;\n",
       "    }\n",
       "</style>\n",
       "<table border=\"1\" class=\"dataframe\">\n",
       "  <thead>\n",
       "    <tr style=\"text-align: right;\">\n",
       "      <th></th>\n",
       "      <th>id</th>\n",
       "      <th>timestamp</th>\n",
       "      <th>title</th>\n",
       "      <th>body</th>\n",
       "      <th>edited</th>\n",
       "      <th>verdict</th>\n",
       "      <th>score</th>\n",
       "      <th>num_comments</th>\n",
       "      <th>is_asshole</th>\n",
       "    </tr>\n",
       "  </thead>\n",
       "  <tbody>\n",
       "    <tr>\n",
       "      <td>525</td>\n",
       "      <td>8m1373</td>\n",
       "      <td>1527248555</td>\n",
       "      <td>AITA? Whenever I get into a religious debate, ...</td>\n",
       "      <td>NaN</td>\n",
       "      <td>False</td>\n",
       "      <td>asshole</td>\n",
       "      <td>6</td>\n",
       "      <td>24</td>\n",
       "      <td>1</td>\n",
       "    </tr>\n",
       "    <tr>\n",
       "      <td>3205</td>\n",
       "      <td>8bdpc6</td>\n",
       "      <td>1523413473</td>\n",
       "      <td>AITA for how I parked?</td>\n",
       "      <td>NaN</td>\n",
       "      <td>False</td>\n",
       "      <td>asshole</td>\n",
       "      <td>357</td>\n",
       "      <td>268</td>\n",
       "      <td>1</td>\n",
       "    </tr>\n",
       "    <tr>\n",
       "      <td>5334</td>\n",
       "      <td>93dym6</td>\n",
       "      <td>1533039397</td>\n",
       "      <td>AITA if i laugh when babies fall down and cry?...</td>\n",
       "      <td>NaN</td>\n",
       "      <td>False</td>\n",
       "      <td>not the asshole</td>\n",
       "      <td>12</td>\n",
       "      <td>29</td>\n",
       "      <td>0</td>\n",
       "    </tr>\n",
       "    <tr>\n",
       "      <td>5465</td>\n",
       "      <td>5lgkak</td>\n",
       "      <td>1483297705</td>\n",
       "      <td>AITA for thinking it's better to give money to...</td>\n",
       "      <td>NaN</td>\n",
       "      <td>False</td>\n",
       "      <td>not the asshole</td>\n",
       "      <td>20</td>\n",
       "      <td>5</td>\n",
       "      <td>0</td>\n",
       "    </tr>\n",
       "    <tr>\n",
       "      <td>7488</td>\n",
       "      <td>5hqo5f</td>\n",
       "      <td>1481471842</td>\n",
       "      <td>AITA for taking this picture and posting it to...</td>\n",
       "      <td>NaN</td>\n",
       "      <td>False</td>\n",
       "      <td>asshole</td>\n",
       "      <td>81</td>\n",
       "      <td>86</td>\n",
       "      <td>1</td>\n",
       "    </tr>\n",
       "    <tr>\n",
       "      <td>8012</td>\n",
       "      <td>azlo3l</td>\n",
       "      <td>1552258622</td>\n",
       "      <td>AITA after being offered a cigarette from a cl...</td>\n",
       "      <td>NaN</td>\n",
       "      <td>False</td>\n",
       "      <td>asshole</td>\n",
       "      <td>5</td>\n",
       "      <td>47</td>\n",
       "      <td>1</td>\n",
       "    </tr>\n",
       "    <tr>\n",
       "      <td>8451</td>\n",
       "      <td>3d6n5l</td>\n",
       "      <td>1436828279</td>\n",
       "      <td>AITA for being a dick to Amazon customer servi...</td>\n",
       "      <td>NaN</td>\n",
       "      <td>False</td>\n",
       "      <td>asshole</td>\n",
       "      <td>8</td>\n",
       "      <td>26</td>\n",
       "      <td>1</td>\n",
       "    </tr>\n",
       "  </tbody>\n",
       "</table>\n",
       "</div>"
      ],
      "text/plain": [
       "          id   timestamp                                              title  \\\n",
       "525   8m1373  1527248555  AITA? Whenever I get into a religious debate, ...   \n",
       "3205  8bdpc6  1523413473                             AITA for how I parked?   \n",
       "5334  93dym6  1533039397  AITA if i laugh when babies fall down and cry?...   \n",
       "5465  5lgkak  1483297705  AITA for thinking it's better to give money to...   \n",
       "7488  5hqo5f  1481471842  AITA for taking this picture and posting it to...   \n",
       "8012  azlo3l  1552258622  AITA after being offered a cigarette from a cl...   \n",
       "8451  3d6n5l  1436828279  AITA for being a dick to Amazon customer servi...   \n",
       "\n",
       "     body edited          verdict  score  num_comments  is_asshole  \n",
       "525   NaN  False          asshole      6            24           1  \n",
       "3205  NaN  False          asshole    357           268           1  \n",
       "5334  NaN  False  not the asshole     12            29           0  \n",
       "5465  NaN  False  not the asshole     20             5           0  \n",
       "7488  NaN  False          asshole     81            86           1  \n",
       "8012  NaN  False          asshole      5            47           1  \n",
       "8451  NaN  False          asshole      8            26           1  "
      ]
     },
     "execution_count": 11,
     "metadata": {},
     "output_type": "execute_result"
    }
   ],
   "source": [
    "empty_body"
   ]
  },
  {
   "cell_type": "code",
   "execution_count": 12,
   "metadata": {},
   "outputs": [
    {
     "data": {
      "text/plain": [
       "not the asshole     6119\n",
       "asshole             1988\n",
       "no assholes here    1288\n",
       "everyone sucks       605\n",
       "Name: verdict, dtype: int64"
      ]
     },
     "execution_count": 12,
     "metadata": {},
     "output_type": "execute_result"
    }
   ],
   "source": [
    "full_data['verdict'].value_counts()"
   ]
  },
  {
   "cell_type": "code",
   "execution_count": 19,
   "metadata": {},
   "outputs": [],
   "source": [
    "full_data = full_data.dropna()"
   ]
  },
  {
   "cell_type": "code",
   "execution_count": 20,
   "metadata": {},
   "outputs": [],
   "source": [
    "nta = full_data[full_data['verdict'] == 'not the asshole']\n",
    "ah = full_data[full_data['verdict'] == 'asshole']"
   ]
  },
  {
   "cell_type": "code",
   "execution_count": 22,
   "metadata": {
    "scrolled": true
   },
   "outputs": [
    {
     "name": "stdout",
     "output_type": "stream",
     "text": [
      "<class 'pandas.core.frame.DataFrame'>\n",
      "Int64Index: 9993 entries, 0 to 9999\n",
      "Data columns (total 9 columns):\n",
      "id              9993 non-null object\n",
      "timestamp       9993 non-null int64\n",
      "title           9993 non-null object\n",
      "body            9993 non-null object\n",
      "edited          9993 non-null object\n",
      "verdict         9993 non-null object\n",
      "score           9993 non-null int64\n",
      "num_comments    9993 non-null int64\n",
      "is_asshole      9993 non-null int64\n",
      "dtypes: int64(4), object(5)\n",
      "memory usage: 780.7+ KB\n"
     ]
    }
   ],
   "source": [
    "full_data.info()"
   ]
  },
  {
   "cell_type": "code",
   "execution_count": 23,
   "metadata": {},
   "outputs": [],
   "source": [
    "nta_ds = nta.sample(len(ah)) #downsample to match ah"
   ]
  },
  {
   "cell_type": "code",
   "execution_count": 24,
   "metadata": {
    "scrolled": true
   },
   "outputs": [
    {
     "name": "stdout",
     "output_type": "stream",
     "text": [
      "<class 'pandas.core.frame.DataFrame'>\n",
      "Int64Index: 1983 entries, 8874 to 2345\n",
      "Data columns (total 9 columns):\n",
      "id              1983 non-null object\n",
      "timestamp       1983 non-null int64\n",
      "title           1983 non-null object\n",
      "body            1983 non-null object\n",
      "edited          1983 non-null object\n",
      "verdict         1983 non-null object\n",
      "score           1983 non-null int64\n",
      "num_comments    1983 non-null int64\n",
      "is_asshole      1983 non-null int64\n",
      "dtypes: int64(4), object(5)\n",
      "memory usage: 154.9+ KB\n"
     ]
    }
   ],
   "source": [
    "nta_ds.info()"
   ]
  },
  {
   "cell_type": "code",
   "execution_count": 25,
   "metadata": {},
   "outputs": [
    {
     "name": "stdout",
     "output_type": "stream",
     "text": [
      "<class 'pandas.core.frame.DataFrame'>\n",
      "Int64Index: 1983 entries, 1 to 9989\n",
      "Data columns (total 9 columns):\n",
      "id              1983 non-null object\n",
      "timestamp       1983 non-null int64\n",
      "title           1983 non-null object\n",
      "body            1983 non-null object\n",
      "edited          1983 non-null object\n",
      "verdict         1983 non-null object\n",
      "score           1983 non-null int64\n",
      "num_comments    1983 non-null int64\n",
      "is_asshole      1983 non-null int64\n",
      "dtypes: int64(4), object(5)\n",
      "memory usage: 154.9+ KB\n"
     ]
    }
   ],
   "source": [
    "ah.info()"
   ]
  },
  {
   "cell_type": "code",
   "execution_count": null,
   "metadata": {},
   "outputs": [],
   "source": []
  }
 ],
 "metadata": {
  "kernelspec": {
   "display_name": "Python 3",
   "language": "python",
   "name": "python3"
  },
  "language_info": {
   "codemirror_mode": {
    "name": "ipython",
    "version": 3
   },
   "file_extension": ".py",
   "mimetype": "text/x-python",
   "name": "python",
   "nbconvert_exporter": "python",
   "pygments_lexer": "ipython3",
   "version": "3.7.4"
  }
 },
 "nbformat": 4,
 "nbformat_minor": 2
}
